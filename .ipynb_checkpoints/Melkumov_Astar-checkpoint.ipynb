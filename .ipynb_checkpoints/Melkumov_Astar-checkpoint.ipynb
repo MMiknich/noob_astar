{
 "cells": [
  {
   "cell_type": "code",
   "execution_count": 1,
   "metadata": {},
   "outputs": [],
   "source": [
    "import math\n",
    "import random\n",
    "import matplotlib.pyplot as plt\n",
    "plt.style.use(\"fivethirtyeight\")\n",
    "import numpy as np"
   ]
  },
  {
   "cell_type": "markdown",
   "metadata": {},
   "source": [
    "#### Map class"
   ]
  },
  {
   "cell_type": "code",
   "execution_count": 2,
   "metadata": {},
   "outputs": [],
   "source": [
    "\"\"\"\n",
    "SquareGrid class represents agent's environment\n",
    "0 - cell is traversable\n",
    "1 - cell is blocked\n",
    "\"\"\"\n",
    "class SquareGrid:\n",
    "    #set width, height and fill the grid with zeroes (fully traversable grid)\n",
    "    def __init__(self, width, height):\n",
    "        self.width = width\n",
    "        self.height = height\n",
    "        self.cells = [[0 for _ in range(width)] for _ in range(height)]\n",
    "    \n",
    "    #everything else except \"#\" is considered not to be an obstacle \n",
    "    def get_map(self, input_map):\n",
    "        for i in range(self.height):\n",
    "            for j in range(self.width):\n",
    "                if input_map[i * self.width + j] == '#':\n",
    "                    self.cells[i][j] = 1\n",
    "    \n",
    "    #out of bounds check\n",
    "    def in_bounds(self, i, j):\n",
    "        return 0 <= j < self.width and 0 <= i < self.height\n",
    "    \n",
    "    #blocked cell check\n",
    "    def traversable(self, i, j):\n",
    "        if( self.in_bounds(i, j)):\n",
    "            return not self.cells[i][j]\n",
    "        else:\n",
    "            return False\n",
    "    \n",
    "    #printing the grid\n",
    "    def print(self):\n",
    "        for c in self.cells:\n",
    "            print(*c)\n",
    "    \n",
    "    \n",
    "    def neighbors(self, i, j, diagonal=False, cutcorners=False, squeeze=False):\n",
    "        neighbors = []\n",
    "        for m in [i-1, i, i+1]:\n",
    "            for n in [j-1, j, j+1]:\n",
    "                if not self.traversable(m, n) or (i == m and j == n):\n",
    "                    continue\n",
    "                if m!=i and j!=n:\n",
    "                    if  not diagonal:\n",
    "                        continue\n",
    "                    if not cutcorners and (not self.traversable(m, j) or not self.traversable(i, n)):\n",
    "                        continue\n",
    "                    if not squeeze and not self.traversable(m, j) and not self.traversable(i, n):\n",
    "                        continue\n",
    "                neighbors.append((m, n))\n",
    "        return neighbors"
   ]
  },
  {
   "cell_type": "code",
   "execution_count": 3,
   "metadata": {},
   "outputs": [],
   "source": [
    "class Node:\n",
    "    \"\"\"\n",
    "    Node class represents a search node\n",
    "    i, j: coordinates of corresponding grid element\n",
    "    g: g-value of the node\n",
    "    h: h-value of the node\n",
    "    F: f-value of the node\n",
    "    parent: pointer to the parent-node \n",
    "    \"\"\"\n",
    "    def __init__(self, i, j, g=math.inf, h=math.inf, F=-1, parent=None):\n",
    "        self.i = i\n",
    "        self.j = j\n",
    "        self.g = g\n",
    "        if F==-1:\n",
    "            self.F = self.g + h\n",
    "        else:\n",
    "            self.F = F        \n",
    "        self.parent = parent"
   ]
  },
  {
   "cell_type": "markdown",
   "metadata": {},
   "source": [
    "#### OPEN list"
   ]
  },
  {
   "cell_type": "markdown",
   "metadata": {},
   "source": [
    "\n",
    "OPEN is a fringe of the search-space, i.e. it consists of the nodes that have already been generated but not yet expanded.\n",
    "\n",
    "We should be able to:\n",
    "i) insert newly generated node to OPEN in case no node with the same (i, j) already resides in OPEN;\n",
    "ii) update node in case shorter path to the corresponding grid cell is found (update alters g-val, f-val and backpointer, but, obviously, not i, j and h-val);\n",
    "iii) find the best node, i.e. the node with the lowest f-value.\n",
    "\n",
    "Let's start withis a very primitive, straight-forward, non-efficent way to implement OPEN list."
   ]
  },
  {
   "cell_type": "code",
   "execution_count": 4,
   "metadata": {},
   "outputs": [],
   "source": [
    "class OpenListBasic:\n",
    "    def __init__(self):\n",
    "        self.elements = []\n",
    "    \n",
    "    #empty should infrom whether the OPEN is exhausted or not (in case it is - the search main loop should be interrupted)\n",
    "    def empty(self):\n",
    "        return len(self.elements) == 0\n",
    "    \n",
    "    #get is the method that finds the best node (the one with the lowest  f-value),removes it from OPEN and returns it\n",
    "    def get(self):\n",
    "        return self.elements.pop(0)\n",
    "    \n",
    "    def __add__(self, item):\n",
    "        if self.empty():\n",
    "            self.elements.append(item)\n",
    "            return\n",
    "\n",
    "        if item.F < self.elements[0].F:\n",
    "            self.elements.insert(0, item)\n",
    "            return\n",
    "\n",
    "        for i in range(1, len(self.elements)):\n",
    "            if self.elements[i - 1].F <= item.F < self.elements[i].F:\n",
    "                self.elements.insert(i, item)\n",
    "                return\n",
    "        self.elements.append(item)\n",
    "        return\n",
    "    \n",
    "    def put(self, item):\n",
    "        for it in range(len(self.elements)):\n",
    "            if self.elements[it].i == item.i and self.elements[it].j == item.j:\n",
    "                if self.elements[it].F > item.F:\n",
    "                    self.elements.pop(it)\n",
    "                    self.__add__(item)\n",
    "                    return\n",
    "                else:\n",
    "                    return\n",
    "        self.__add__(item)\n",
    "        return"
   ]
  },
  {
   "cell_type": "markdown",
   "metadata": {},
   "source": [
    "### Heuristics for grid maps"
   ]
  },
  {
   "cell_type": "markdown",
   "metadata": {},
   "source": [
    "#### Euclidean distance\n",
    "\n",
    "Straight line distance is the most intuitive thing to think of as it is the true shortest distance on a plane (thus 100% admissable). Calculation involves taking the square root (so it's a \"slow\" heuristic). Moreover this distance is not accurate for grid-worlds in many cases as the agent is limited to cardinal and diagonal moves only."
   ]
  },
  {
   "cell_type": "code",
   "execution_count": 5,
   "metadata": {},
   "outputs": [],
   "source": [
    "def euclidean_heuristic(a_i, a_j, b_i, b_j):\n",
    "    dx = abs(a_i - b_i)\n",
    "    dy = abs(a_j - b_j)\n",
    "    return math.sqrt(dx * dx + dy * dy)\n",
    "def euclidean_heuristic_my(a, b):\n",
    "    dx = abs(a[0] - b[0])\n",
    "    dy = abs(a[1] - b[1])\n",
    "    return math.sqrt(dx * dx + dy * dy)"
   ]
  },
  {
   "cell_type": "markdown",
   "metadata": {},
   "source": [
    "#### Manhattan distance\n",
    "\n",
    "More accurate heuristic when cardinal moves are allowed. It is not an admissable heuristic if diagonal moves are allowed as well."
   ]
  },
  {
   "cell_type": "code",
   "execution_count": 6,
   "metadata": {},
   "outputs": [],
   "source": [
    "def manhattan_heuristic(a_i, a_j, b_i, b_j):\n",
    "    dx = abs(a_i - b_i)\n",
    "    dy = abs(a_j - b_j)\n",
    "    return dx + dy"
   ]
  },
  {
   "cell_type": "markdown",
   "metadata": {},
   "source": [
    "#### Diagonal distance\n",
    "\n",
    "More accurate heuristic when diagonal moves are allowed."
   ]
  },
  {
   "cell_type": "code",
   "execution_count": 7,
   "metadata": {},
   "outputs": [],
   "source": [
    "def diagonal_heuristic(a_i, a_j, b_i, b_j):\n",
    "    dx = abs(a_i - b_i)\n",
    "    dy = abs(a_j - b_j)\n",
    "    return min(dx, dy)*math.sqrt(2) + abs(dx - dy)"
   ]
  },
  {
   "cell_type": "markdown",
   "metadata": {},
   "source": [
    "## A* realisation"
   ]
  },
  {
   "cell_type": "code",
   "execution_count": 8,
   "metadata": {},
   "outputs": [],
   "source": [
    "def calculate_heuristic(a_i, a_j, goal_i, goal_j, heuristic_type='euclidean'):\n",
    "    if heuristic_type == 'euclidean':\n",
    "        return euclidean_heuristic(a_i, a_j, goal_i, goal_j)\n",
    "    if heuristic_type == 'octile':\n",
    "        return diagonal_heuristic(a_i, a_j, goal_i, goal_j)\n",
    "    if heuristic_type == 'manhattan':\n",
    "        return manhattan_heuristic(a_i, a_j, goal_i, goal_j) \n",
    "    \n",
    "def calculate_cost(a_i, a_j, b_i, b_j):\n",
    "    return math.sqrt(abs(a_i - b_i) * abs(a_i - b_i) + abs(a_j - b_j) * abs(a_j - b_j))\n",
    "\n",
    "\n",
    "def search(grid, start_i, start_j, goal_i, goal_j,\n",
    "           heuristic_type='euclidean',\n",
    "           heuristic_weight=1,\n",
    "           diagonal=False, \n",
    "           cutcorners=False, \n",
    "           squeeze=False):\n",
    "    \n",
    "    OPEN = OpenListBasic()\n",
    "    start_node = Node(start_i, start_j, 0, \n",
    "                      heuristic_weight * calculate_heuristic(start_i, start_j, goal_i, goal_j, heuristic_type))\n",
    "    OPEN.put(start_node)\n",
    "    CLOSED = dict()\n",
    "    \n",
    "    while not OPEN.empty():\n",
    "        current = OPEN.get() #retrieve the best search node from OPEN\n",
    "        #print(current.i, ' ', current.j, ' ', current.F) #print out the best current node (f-val should increase over the iterations)\n",
    "        CLOSED[current.i * grid.width + current.j] = current #put the node to CLOSE\n",
    "        \n",
    "        if current.i == goal_i and current.j == goal_j:\n",
    "            ##print(\"Path has been found!\")\n",
    "            return current, CLOSED\n",
    "        \n",
    "        for (i, j) in grid.neighbors(current.i, current.j, diagonal, cutcorners, squeeze):\n",
    "            if i * grid.width + j not in CLOSED:\n",
    "                g_cur = current.g + calculate_cost(current.i, current.j, i, j)\n",
    "                h_cur = calculate_heuristic(i, j, goal_i, goal_j, heuristic_type)\n",
    "                f_cur = g_cur + heuristic_weight * h_cur\n",
    "                new_node = Node(i, j, g_cur, h_cur, f_cur, current)\n",
    "                OPEN.put(new_node)\n",
    "                \n",
    "    #print(\"Path NOT found\")\n",
    "    return current, CLOSED"
   ]
  },
  {
   "cell_type": "code",
   "execution_count": 9,
   "metadata": {},
   "outputs": [],
   "source": [
    "def make_path(goal):\n",
    "    current = goal\n",
    "    path = []\n",
    "    while current.parent:\n",
    "        path.append((current.i, current.j))\n",
    "        current = current.parent;\n",
    "    path.append((current.i, current.j))\n",
    "    return path[::-1]\n",
    "\n",
    "def print_path(grid, path):#, USED):\n",
    "    for i in range(grid.height):\n",
    "        for j in range(grid.width):\n",
    "            if (i, j) in path:\n",
    "                print(\"*\", \"\", end='')\n",
    "            else:\n",
    "#                 if (i,j) in USED:\n",
    "#                     print(\"+\",  \"\", end='')\n",
    "#                 else:\n",
    "                print(grid.cells[i][j], \"\", end='')\n",
    "        print(\"\\n\", end='')"
   ]
  },
  {
   "cell_type": "markdown",
   "metadata": {},
   "source": [
    "## My Testing"
   ]
  },
  {
   "cell_type": "code",
   "execution_count": 10,
   "metadata": {},
   "outputs": [],
   "source": [
    "min_len = 50\n",
    "points = 100\n",
    "size = 256\n",
    "\n",
    "with open('map.txt', 'r') as file:\n",
    "    big_map = file.read()\n",
    "    \n",
    "b_grid = SquareGrid(size, size) #make sure the dimensions match the drawn map\n",
    "b_grid.get_map(big_map.translate({ ord(c): None for c in ' \\n\\t\\r' })) #remove all whitespaces, tabs etc. \n",
    "\n",
    "#generating points with min eqlig len \n",
    "\n",
    "start=[]\n",
    "goal=[]\n",
    "miss = 0\n",
    "st, gl = (), ()\n",
    "while True:\n",
    "    st = (random.randint(0, size - 1),random.randint(0, size - 1))\n",
    "    gl = (random.randint(0, size - 1),random.randint(0, size - 1))\n",
    "    if(euclidean_heuristic_my(st, gl) >= min_len and b_grid.traversable(st[0], st[1]) and b_grid.traversable(gl[0], gl[1])):\n",
    "        start.append(st)\n",
    "        goal.append(gl)\n",
    "        if(len(start) == points):\n",
    "            break\n",
    "\n"
   ]
  },
  {
   "cell_type": "code",
   "execution_count": 11,
   "metadata": {},
   "outputs": [],
   "source": [
    "import pandas as pd\n",
    "\n",
    "#testing func\n",
    "\n",
    "def test(grid, start, goal, method, weightm, diagonal=True, squeeze=False, cutcorners=True):\n",
    "    result=dict()\n",
    "    result[\"Start\"] = []\n",
    "    result[\"Goal\"]= []\n",
    "    result[\"h_func\"]= []\n",
    "    result[\"Weight\"]= []\n",
    "    result[\"Lenght\"]= []\n",
    "    result[\"Steps\"]= []\n",
    "\n",
    "    for i in range(len(start)):\n",
    "        end, CLOSED = search(grid, start[i][0], start[i][1], goal[i][0], goal[i][1],diagonal=diagonal, squeeze=squeeze, cutcorners=cutcorners,heuristic_type=method,heuristic_weight=weightm)\n",
    "        path = make_path(end)\n",
    "        result[\"Start\"].append(start[i])\n",
    "        result[\"Goal\"].append(goal[i])\n",
    "        result[\"h_func\"].append(method)\n",
    "        result[\"Weight\"].append(weightm)\n",
    "        result[\"Lenght\"].append(end.g)\n",
    "        result[\"Steps\"].append(len(CLOSED))\n",
    "    return pd.DataFrame(result)\n",
    "\n"
   ]
  },
  {
   "cell_type": "markdown",
   "metadata": {},
   "source": [
    "## Counting"
   ]
  },
  {
   "cell_type": "markdown",
   "metadata": {},
   "source": [
    "Some tests with different h-functions and weights"
   ]
  },
  {
   "cell_type": "code",
   "execution_count": 12,
   "metadata": {
    "tags": [
     "outputPrepend",
     "outputPrepend",
     "outputPrepend",
     "outputPrepend",
     "outputPrepend",
     "outputPrepend",
     "outputPrepend",
     "outputPrepend",
     "outputPrepend",
     "outputPrepend",
     "outputPrepend",
     "outputPrepend",
     "outputPrepend",
     "outputPrepend",
     "outputPrepend",
     "outputPrepend",
     "outputPrepend",
     "outputPrepend",
     "outputPrepend",
     "outputPrepend",
     "outputPrepend",
     "outputPrepend",
     "outputPrepend",
     "outputPrepend",
     "outputPrepend",
     "outputPrepend",
     "outputPrepend",
     "outputPrepend",
     "outputPrepend",
     "outputPrepend",
     "outputPrepend",
     "outputPrepend",
     "outputPrepend",
     "outputPrepend",
     "outputPrepend",
     "outputPrepend",
     "outputPrepend",
     "outputPrepend",
     "outputPrepend",
     "outputPrepend",
     "outputPrepend"
    ]
   },
   "outputs": [
    {
     "name": "stdout",
     "output_type": "stream",
     "text": [
      "Wall time: 2min 15s\n"
     ]
    }
   ],
   "source": [
    "%%time\n",
    "test_results = test(b_grid, start, goal, 'euclidean',1)\n",
    "test_results.to_csv(\"euclid_data.csv\")"
   ]
  },
  {
   "cell_type": "code",
   "execution_count": 13,
   "metadata": {},
   "outputs": [
    {
     "name": "stdout",
     "output_type": "stream",
     "text": [
      "Wall time: 42.9 s\n"
     ]
    }
   ],
   "source": [
    "%%time\n",
    "test_results = test(b_grid, start, goal, 'manhattan',1)\n",
    "test_results.to_csv(\"manhattan_data.csv\")"
   ]
  },
  {
   "cell_type": "code",
   "execution_count": 14,
   "metadata": {},
   "outputs": [
    {
     "name": "stdout",
     "output_type": "stream",
     "text": [
      "Wall time: 1min 38s\n"
     ]
    }
   ],
   "source": [
    "%%time\n",
    "test_results = test(b_grid, start, goal, 'octile',1)\n",
    "test_results.to_csv(\"octile_data.csv\")"
   ]
  },
  {
   "cell_type": "code",
   "execution_count": 15,
   "metadata": {},
   "outputs": [
    {
     "name": "stdout",
     "output_type": "stream",
     "text": [
      "Wall time: 24.3 s\n"
     ]
    }
   ],
   "source": [
    "%%time\n",
    "test_results = test(b_grid, start, goal, 'euclidean',2)\n",
    "test_results.to_csv(\"euclid2_data.csv\")"
   ]
  },
  {
   "cell_type": "code",
   "execution_count": 16,
   "metadata": {},
   "outputs": [
    {
     "name": "stdout",
     "output_type": "stream",
     "text": [
      "Wall time: 30.6 s\n"
     ]
    }
   ],
   "source": [
    "%%time\n",
    "test_results = test(b_grid, start, goal, 'euclidean',1.5)\n",
    "test_results.to_csv(\"euclid1.5_data.csv\")"
   ]
  },
  {
   "cell_type": "code",
   "execution_count": 17,
   "metadata": {},
   "outputs": [
    {
     "name": "stdout",
     "output_type": "stream",
     "text": [
      "Wall time: 1min 23s\n"
     ]
    }
   ],
   "source": [
    "%%time\n",
    "test_results = test(b_grid, start, goal, 'euclidean',1.1)\n",
    "test_results.to_csv(\"euclid1.1_data.csv\")"
   ]
  },
  {
   "cell_type": "code",
   "execution_count": 18,
   "metadata": {},
   "outputs": [
    {
     "name": "stdout",
     "output_type": "stream",
     "text": [
      "Wall time: 15.9 s\n"
     ]
    }
   ],
   "source": [
    "%%time\n",
    "test_results = test(b_grid, start, goal, 'euclidean',3)\n",
    "test_results.to_csv(\"euclid3_data.csv\")"
   ]
  },
  {
   "cell_type": "code",
   "execution_count": 19,
   "metadata": {},
   "outputs": [
    {
     "name": "stdout",
     "output_type": "stream",
     "text": [
      "Wall time: 38.8 s\n"
     ]
    }
   ],
   "source": [
    "%%time\n",
    "test_results = test(b_grid, start, goal, 'manhattan',1.1)\n",
    "test_results.to_csv(\"manhattan1.1_data.csv\")"
   ]
  },
  {
   "cell_type": "code",
   "execution_count": 20,
   "metadata": {},
   "outputs": [
    {
     "name": "stdout",
     "output_type": "stream",
     "text": [
      "Wall time: 26.6 s\n"
     ]
    }
   ],
   "source": [
    "%%time\n",
    "test_results = test(b_grid, start, goal, 'manhattan',1.5)\n",
    "test_results.to_csv(\"manhattan1.5_data.csv\")"
   ]
  },
  {
   "cell_type": "markdown",
   "metadata": {},
   "source": [
    "## Tables"
   ]
  },
  {
   "cell_type": "code",
   "execution_count": 21,
   "metadata": {},
   "outputs": [
    {
     "data": {
      "text/html": [
       "<div>\n",
       "<style scoped>\n",
       "    .dataframe tbody tr th:only-of-type {\n",
       "        vertical-align: middle;\n",
       "    }\n",
       "\n",
       "    .dataframe tbody tr th {\n",
       "        vertical-align: top;\n",
       "    }\n",
       "\n",
       "    .dataframe thead th {\n",
       "        text-align: right;\n",
       "    }\n",
       "</style>\n",
       "<table border=\"1\" class=\"dataframe\">\n",
       "  <thead>\n",
       "    <tr style=\"text-align: right;\">\n",
       "      <th></th>\n",
       "      <th>Unnamed: 0</th>\n",
       "      <th>Start</th>\n",
       "      <th>Goal</th>\n",
       "      <th>h_func</th>\n",
       "      <th>Weight</th>\n",
       "      <th>Lenght</th>\n",
       "      <th>Steps</th>\n",
       "    </tr>\n",
       "  </thead>\n",
       "  <tbody>\n",
       "    <tr>\n",
       "      <th>0</th>\n",
       "      <td>0</td>\n",
       "      <td>(59, 121)</td>\n",
       "      <td>(105, 197)</td>\n",
       "      <td>euclidean</td>\n",
       "      <td>1</td>\n",
       "      <td>99.154329</td>\n",
       "      <td>1578</td>\n",
       "    </tr>\n",
       "    <tr>\n",
       "      <th>1</th>\n",
       "      <td>1</td>\n",
       "      <td>(5, 33)</td>\n",
       "      <td>(111, 242)</td>\n",
       "      <td>euclidean</td>\n",
       "      <td>1</td>\n",
       "      <td>312.764502</td>\n",
       "      <td>16828</td>\n",
       "    </tr>\n",
       "    <tr>\n",
       "      <th>2</th>\n",
       "      <td>2</td>\n",
       "      <td>(21, 65)</td>\n",
       "      <td>(73, 105)</td>\n",
       "      <td>euclidean</td>\n",
       "      <td>1</td>\n",
       "      <td>171.539105</td>\n",
       "      <td>4797</td>\n",
       "    </tr>\n",
       "    <tr>\n",
       "      <th>3</th>\n",
       "      <td>3</td>\n",
       "      <td>(70, 67)</td>\n",
       "      <td>(223, 55)</td>\n",
       "      <td>euclidean</td>\n",
       "      <td>1</td>\n",
       "      <td>218.722871</td>\n",
       "      <td>10183</td>\n",
       "    </tr>\n",
       "    <tr>\n",
       "      <th>4</th>\n",
       "      <td>4</td>\n",
       "      <td>(26, 137)</td>\n",
       "      <td>(137, 6)</td>\n",
       "      <td>euclidean</td>\n",
       "      <td>1</td>\n",
       "      <td>229.941125</td>\n",
       "      <td>3913</td>\n",
       "    </tr>\n",
       "    <tr>\n",
       "      <th>...</th>\n",
       "      <td>...</td>\n",
       "      <td>...</td>\n",
       "      <td>...</td>\n",
       "      <td>...</td>\n",
       "      <td>...</td>\n",
       "      <td>...</td>\n",
       "      <td>...</td>\n",
       "    </tr>\n",
       "    <tr>\n",
       "      <th>95</th>\n",
       "      <td>95</td>\n",
       "      <td>(140, 60)</td>\n",
       "      <td>(62, 233)</td>\n",
       "      <td>euclidean</td>\n",
       "      <td>1</td>\n",
       "      <td>205.308658</td>\n",
       "      <td>6027</td>\n",
       "    </tr>\n",
       "    <tr>\n",
       "      <th>96</th>\n",
       "      <td>96</td>\n",
       "      <td>(40, 106)</td>\n",
       "      <td>(178, 54)</td>\n",
       "      <td>euclidean</td>\n",
       "      <td>1</td>\n",
       "      <td>209.580736</td>\n",
       "      <td>9726</td>\n",
       "    </tr>\n",
       "    <tr>\n",
       "      <th>97</th>\n",
       "      <td>97</td>\n",
       "      <td>(215, 34)</td>\n",
       "      <td>(108, 246)</td>\n",
       "      <td>euclidean</td>\n",
       "      <td>1</td>\n",
       "      <td>256.320851</td>\n",
       "      <td>8521</td>\n",
       "    </tr>\n",
       "    <tr>\n",
       "      <th>98</th>\n",
       "      <td>98</td>\n",
       "      <td>(17, 51)</td>\n",
       "      <td>(189, 194)</td>\n",
       "      <td>euclidean</td>\n",
       "      <td>1</td>\n",
       "      <td>316.161472</td>\n",
       "      <td>13609</td>\n",
       "    </tr>\n",
       "    <tr>\n",
       "      <th>99</th>\n",
       "      <td>99</td>\n",
       "      <td>(96, 42)</td>\n",
       "      <td>(27, 101)</td>\n",
       "      <td>euclidean</td>\n",
       "      <td>1</td>\n",
       "      <td>182.769553</td>\n",
       "      <td>9544</td>\n",
       "    </tr>\n",
       "  </tbody>\n",
       "</table>\n",
       "<p>100 rows × 7 columns</p>\n",
       "</div>"
      ],
      "text/plain": [
       "    Unnamed: 0      Start        Goal     h_func  Weight      Lenght  Steps\n",
       "0            0  (59, 121)  (105, 197)  euclidean       1   99.154329   1578\n",
       "1            1    (5, 33)  (111, 242)  euclidean       1  312.764502  16828\n",
       "2            2   (21, 65)   (73, 105)  euclidean       1  171.539105   4797\n",
       "3            3   (70, 67)   (223, 55)  euclidean       1  218.722871  10183\n",
       "4            4  (26, 137)    (137, 6)  euclidean       1  229.941125   3913\n",
       "..         ...        ...         ...        ...     ...         ...    ...\n",
       "95          95  (140, 60)   (62, 233)  euclidean       1  205.308658   6027\n",
       "96          96  (40, 106)   (178, 54)  euclidean       1  209.580736   9726\n",
       "97          97  (215, 34)  (108, 246)  euclidean       1  256.320851   8521\n",
       "98          98   (17, 51)  (189, 194)  euclidean       1  316.161472  13609\n",
       "99          99   (96, 42)   (27, 101)  euclidean       1  182.769553   9544\n",
       "\n",
       "[100 rows x 7 columns]"
      ]
     },
     "execution_count": 21,
     "metadata": {},
     "output_type": "execute_result"
    }
   ],
   "source": [
    "import pandas as pd\n",
    "data_eucl1 = pd.read_csv(\"euclid_data.csv\")\n",
    "data_manh1 = pd.read_csv(\"manhattan_data.csv\")\n",
    "data_oct1 = pd.read_csv(\"octile_data.csv\")"
   ]
  },
  {
   "cell_type": "code",
   "execution_count": null,
   "metadata": {},
   "outputs": [],
   "source": [
    "data_eucl1"
   ]
  },
  {
   "cell_type": "code",
   "execution_count": 22,
   "metadata": {},
   "outputs": [
    {
     "data": {
      "text/html": [
       "<div>\n",
       "<style scoped>\n",
       "    .dataframe tbody tr th:only-of-type {\n",
       "        vertical-align: middle;\n",
       "    }\n",
       "\n",
       "    .dataframe tbody tr th {\n",
       "        vertical-align: top;\n",
       "    }\n",
       "\n",
       "    .dataframe thead th {\n",
       "        text-align: right;\n",
       "    }\n",
       "</style>\n",
       "<table border=\"1\" class=\"dataframe\">\n",
       "  <thead>\n",
       "    <tr style=\"text-align: right;\">\n",
       "      <th></th>\n",
       "      <th>Unnamed: 0</th>\n",
       "      <th>Start</th>\n",
       "      <th>Goal</th>\n",
       "      <th>h_func</th>\n",
       "      <th>Weight</th>\n",
       "      <th>Lenght</th>\n",
       "      <th>Steps</th>\n",
       "    </tr>\n",
       "  </thead>\n",
       "  <tbody>\n",
       "    <tr>\n",
       "      <th>0</th>\n",
       "      <td>0</td>\n",
       "      <td>(59, 121)</td>\n",
       "      <td>(105, 197)</td>\n",
       "      <td>manhattan</td>\n",
       "      <td>1</td>\n",
       "      <td>99.154329</td>\n",
       "      <td>90</td>\n",
       "    </tr>\n",
       "    <tr>\n",
       "      <th>1</th>\n",
       "      <td>1</td>\n",
       "      <td>(5, 33)</td>\n",
       "      <td>(111, 242)</td>\n",
       "      <td>manhattan</td>\n",
       "      <td>1</td>\n",
       "      <td>312.764502</td>\n",
       "      <td>11108</td>\n",
       "    </tr>\n",
       "    <tr>\n",
       "      <th>2</th>\n",
       "      <td>2</td>\n",
       "      <td>(21, 65)</td>\n",
       "      <td>(73, 105)</td>\n",
       "      <td>manhattan</td>\n",
       "      <td>1</td>\n",
       "      <td>171.539105</td>\n",
       "      <td>3035</td>\n",
       "    </tr>\n",
       "    <tr>\n",
       "      <th>3</th>\n",
       "      <td>3</td>\n",
       "      <td>(70, 67)</td>\n",
       "      <td>(223, 55)</td>\n",
       "      <td>manhattan</td>\n",
       "      <td>1</td>\n",
       "      <td>218.722871</td>\n",
       "      <td>7883</td>\n",
       "    </tr>\n",
       "    <tr>\n",
       "      <th>4</th>\n",
       "      <td>4</td>\n",
       "      <td>(26, 137)</td>\n",
       "      <td>(137, 6)</td>\n",
       "      <td>manhattan</td>\n",
       "      <td>1</td>\n",
       "      <td>229.941125</td>\n",
       "      <td>685</td>\n",
       "    </tr>\n",
       "    <tr>\n",
       "      <th>...</th>\n",
       "      <td>...</td>\n",
       "      <td>...</td>\n",
       "      <td>...</td>\n",
       "      <td>...</td>\n",
       "      <td>...</td>\n",
       "      <td>...</td>\n",
       "      <td>...</td>\n",
       "    </tr>\n",
       "    <tr>\n",
       "      <th>95</th>\n",
       "      <td>95</td>\n",
       "      <td>(140, 60)</td>\n",
       "      <td>(62, 233)</td>\n",
       "      <td>manhattan</td>\n",
       "      <td>1</td>\n",
       "      <td>210.480231</td>\n",
       "      <td>429</td>\n",
       "    </tr>\n",
       "    <tr>\n",
       "      <th>96</th>\n",
       "      <td>96</td>\n",
       "      <td>(40, 106)</td>\n",
       "      <td>(178, 54)</td>\n",
       "      <td>manhattan</td>\n",
       "      <td>1</td>\n",
       "      <td>209.580736</td>\n",
       "      <td>6279</td>\n",
       "    </tr>\n",
       "    <tr>\n",
       "      <th>97</th>\n",
       "      <td>97</td>\n",
       "      <td>(215, 34)</td>\n",
       "      <td>(108, 246)</td>\n",
       "      <td>manhattan</td>\n",
       "      <td>1</td>\n",
       "      <td>256.320851</td>\n",
       "      <td>308</td>\n",
       "    </tr>\n",
       "    <tr>\n",
       "      <th>98</th>\n",
       "      <td>98</td>\n",
       "      <td>(17, 51)</td>\n",
       "      <td>(189, 194)</td>\n",
       "      <td>manhattan</td>\n",
       "      <td>1</td>\n",
       "      <td>329.634560</td>\n",
       "      <td>9276</td>\n",
       "    </tr>\n",
       "    <tr>\n",
       "      <th>99</th>\n",
       "      <td>99</td>\n",
       "      <td>(96, 42)</td>\n",
       "      <td>(27, 101)</td>\n",
       "      <td>manhattan</td>\n",
       "      <td>1</td>\n",
       "      <td>182.769553</td>\n",
       "      <td>7434</td>\n",
       "    </tr>\n",
       "  </tbody>\n",
       "</table>\n",
       "<p>100 rows × 7 columns</p>\n",
       "</div>"
      ],
      "text/plain": [
       "    Unnamed: 0      Start        Goal     h_func  Weight      Lenght  Steps\n",
       "0            0  (59, 121)  (105, 197)  manhattan       1   99.154329     90\n",
       "1            1    (5, 33)  (111, 242)  manhattan       1  312.764502  11108\n",
       "2            2   (21, 65)   (73, 105)  manhattan       1  171.539105   3035\n",
       "3            3   (70, 67)   (223, 55)  manhattan       1  218.722871   7883\n",
       "4            4  (26, 137)    (137, 6)  manhattan       1  229.941125    685\n",
       "..         ...        ...         ...        ...     ...         ...    ...\n",
       "95          95  (140, 60)   (62, 233)  manhattan       1  210.480231    429\n",
       "96          96  (40, 106)   (178, 54)  manhattan       1  209.580736   6279\n",
       "97          97  (215, 34)  (108, 246)  manhattan       1  256.320851    308\n",
       "98          98   (17, 51)  (189, 194)  manhattan       1  329.634560   9276\n",
       "99          99   (96, 42)   (27, 101)  manhattan       1  182.769553   7434\n",
       "\n",
       "[100 rows x 7 columns]"
      ]
     },
     "execution_count": 22,
     "metadata": {},
     "output_type": "execute_result"
    }
   ],
   "source": [
    "data_manh1"
   ]
  },
  {
   "cell_type": "code",
   "execution_count": 23,
   "metadata": {},
   "outputs": [
    {
     "data": {
      "image/png": "[encoded data removed]",
      "text/plain": [
       "<Figure size 1440x720 with 2 Axes>"
      ]
     },
     "metadata": {},
     "output_type": "display_data"
    }
   ],
   "source": [
    "fig, (ax1, ax2) = plt.subplots(1, 2, figsize=(20, 10))\n",
    "fig.suptitle(\"$A^*$\")\n",
    "ax1.plot(data_eucl1[\"Lenght\"], data_eucl1[\"Steps\"], \"o\", label=\"Euclidean\")\n",
    "ax1.plot(data_manh1[\"Lenght\"], data_manh1[\"Steps\"], \"o\", label=\"Manhattan\")\n",
    "ax1.plot(data_oct1[\"Lenght\"], data_oct1[\"Steps\"], \"o\", label=\"Octile\")\n",
    "plt.xlabel(\"Path Lenght\")\n",
    "plt.ylabel(\"Number of examined nodes\")\n",
    "ax2.plot(data_eucl1[\"Lenght\"], data_eucl1[\"Steps\"], \"o\", label=\"Euclidean\")\n",
    "ax2.plot(data_manh1[\"Lenght\"], data_manh1[\"Steps\"], \"o\", label=\"Manhattan\")\n",
    "ax2.plot(data_oct1[\"Lenght\"], data_oct1[\"Steps\"], \"o\", label=\"Octile\")\n",
    "plt.semilogy()\n",
    "plt.semilogx()\n",
    "\n",
    "plt.legend()\n",
    "plt.show()"
   ]
  },
  {
   "cell_type": "markdown",
   "metadata": {},
   "source": [
    "## Counting"
   ]
  },
  {
   "cell_type": "code",
   "execution_count": 24,
   "metadata": {},
   "outputs": [],
   "source": [
    "data_eucl11 = pd.read_csv(\"euclid1.1_data.csv\")\n",
    "data_eucl15 = pd.read_csv(\"euclid1.5_data.csv\")\n",
    "data_eucl2 = pd.read_csv(\"euclid2_data.csv\")\n",
    "data_eucl3 = pd.read_csv(\"euclid3_data.csv\")"
   ]
  },
  {
   "cell_type": "code",
   "execution_count": 25,
   "metadata": {},
   "outputs": [
    {
     "name": "stdout",
     "output_type": "stream",
     "text": [
      "Wall time: 2min 58s\n"
     ]
    }
   ],
   "source": [
    "%%time\n",
    "x = np.linspace(1.5, 5, 10)\n",
    "y = []\n",
    "for i in x:\n",
    "    y.append(test(b_grid, start, goal, 'euclidean',i)[\"Lenght\"].mean())"
   ]
  },
  {
   "cell_type": "code",
   "execution_count": 26,
   "metadata": {},
   "outputs": [
    {
     "name": "stdout",
     "output_type": "stream",
     "text": [
      "Wall time: 2min 55s\n"
     ]
    }
   ],
   "source": [
    "%%time\n",
    "x1 = np.linspace(1.5, 5, 10)\n",
    "y1 = []\n",
    "for i in x1:\n",
    "    y1.append(test(b_grid, start, goal, 'manhattan',i)[\"Lenght\"].mean())"
   ]
  },
  {
   "cell_type": "markdown",
   "metadata": {},
   "source": [
    "## Plot"
   ]
  },
  {
   "cell_type": "code",
   "execution_count": 27,
   "metadata": {},
   "outputs": [
    {
     "data": {
      "text/plain": [
       "Text(0, 0.5, 'Average Lenght')"
      ]
     },
     "execution_count": 27,
     "metadata": {},
     "output_type": "execute_result"
    },
    {
     "data": {
      "image/png": "[encoded data removed]",
      "text/plain": [
       "<Figure size 720x720 with 1 Axes>"
      ]
     },
     "metadata": {},
     "output_type": "display_data"
    }
   ],
   "source": [
    "plt.figure(figsize=(10,10))\n",
    "plt.plot(x, y, label=\"Euclidean\")\n",
    "plt.plot(x1, y1, label=\"Manhattan\")\n",
    "plt.legend()\n",
    "plt.xlabel(\"Weight\")\n",
    "plt.ylabel(\"Average Lenght\")\n"
   ]
  },
  {
   "cell_type": "markdown",
   "metadata": {},
   "source": [
    "## Count"
   ]
  },
  {
   "cell_type": "code",
   "execution_count": 28,
   "metadata": {},
   "outputs": [
    {
     "name": "stdout",
     "output_type": "stream",
     "text": [
      "Wall time: 4min 58s\n"
     ]
    }
   ],
   "source": [
    "%%time\n",
    "x = np.linspace(1.5, 5, 10)\n",
    "ecl_steps = []\n",
    "for i in x:\n",
    "    ecl_steps.append(test(b_grid, start, goal, 'euclidean',i)[\"Steps\"].mean())\n",
    "\n",
    "manh_steps = []\n",
    "for i in x:\n",
    "    manh_steps.append(test(b_grid, start, goal, 'manhattan',i)[\"Steps\"].mean())"
   ]
  },
  {
   "cell_type": "markdown",
   "metadata": {},
   "source": [
    "## Plot"
   ]
  },
  {
   "cell_type": "code",
   "execution_count": 29,
   "metadata": {},
   "outputs": [
    {
     "data": {
      "text/plain": [
       "Text(0, 0.5, 'Average Steps')"
      ]
     },
     "execution_count": 29,
     "metadata": {},
     "output_type": "execute_result"
    },
    {
     "data": {
      "image/png": "[encoded data removed]",
      "text/plain": [
       "<Figure size 720x720 with 1 Axes>"
      ]
     },
     "metadata": {},
     "output_type": "display_data"
    }
   ],
   "source": [
    "plt.figure(figsize=(10,10))\n",
    "plt.plot(x, ecl_steps, label=\"Euclidean\")\n",
    "plt.plot(x, manh_steps, label=\"Manhattan\")\n",
    "plt.legend()\n",
    "plt.xlabel(\"Weight\")\n",
    "plt.ylabel(\"Average Steps\")\n"
   ]
  },
  {
   "cell_type": "code",
   "execution_count": null,
   "metadata": {},
   "outputs": [],
   "source": []
  }
 ],
 "metadata": {
  "kernelspec": {
   "display_name": "Python 3",
   "language": "python",
   "name": "python3"
  },
  "language_info": {
   "codemirror_mode": {
    "name": "ipython",
    "version": 3
   },
   "file_extension": ".py",
   "mimetype": "text/x-python",
   "name": "python",
   "nbconvert_exporter": "python",
   "pygments_lexer": "ipython3",
   "version": "3.7.7"
  }
 },
 "nbformat": 4,
 "nbformat_minor": 4
}
